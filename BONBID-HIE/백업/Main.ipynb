{
 "cells": [
  {
   "cell_type": "code",
   "execution_count": null,
   "metadata": {},
   "outputs": [],
   "source": [
    "import tensorflow as tf\n",
    "\n",
    "# TensorFlow 버전 확인\n",
    "print(\"TensorFlow version:\", tf.__version__)\n",
    "\n",
    "# GPU 사용 가능 여부 확인\n",
    "print(\"Num GPUs Available: \", len(tf.config.experimental.list_physical_devices('GPU')))"
   ]
  },
  {
   "cell_type": "code",
   "execution_count": null,
   "metadata": {},
   "outputs": [],
   "source": [
    "import tensorflow as tf\n",
    "print(tf.config.list_physical_devices('GPU'))"
   ]
  },
  {
   "cell_type": "code",
   "execution_count": null,
   "metadata": {},
   "outputs": [],
   "source": [
    "from tensorflow.python.client import device_lib\n",
    "device_lib.list_local_devices()"
   ]
  },
  {
   "cell_type": "code",
   "execution_count": null,
   "metadata": {
    "colab": {
     "base_uri": "https://localhost:8080/"
    },
    "executionInfo": {
     "elapsed": 47203,
     "status": "ok",
     "timestamp": 1718204471895,
     "user": {
      "displayName": "제민우",
      "userId": "12694312124780926739"
     },
     "user_tz": -540
    },
    "id": "TWknaEIM5k2-",
    "outputId": "4ee2adbe-cb8d-4e9b-f9d9-ed6f66089ac6"
   },
   "outputs": [],
   "source": [
    "import os\n",
    "import sys\n",
    "\n",
    "BASE_DIR = os.path.dirname(os.path.abspath(os.path.abspath('')))\n",
    "WORK_DIR = os.path.join(BASE_DIR, 'code')\n",
    "sys.path.append(WORK_DIR)\n",
    "print('base dir: ', BASE_DIR)"
   ]
  },
  {
   "cell_type": "code",
   "execution_count": null,
   "metadata": {
    "id": "Ani_Nb31RJQ8"
   },
   "outputs": [],
   "source": [
    "import tensorflow as tf\n",
    "import numpy as np\n",
    "import random\n",
    "\n",
    "# 난수 시드 설정\n",
    "seed_value = 42\n",
    "\n",
    "random.seed(seed_value)\n",
    "np.random.seed(seed_value)\n",
    "tf.random.set_seed(seed_value)\n",
    "\n",
    "import tensorflow as tf\n",
    "import numpy as np\n",
    "import random\n",
    "import os\n",
    "\n",
    "# 난수 시드 설정\n",
    "seed_value = 42\n",
    "\n",
    "random.seed(seed_value)\n",
    "np.random.seed(seed_value)\n",
    "tf.random.set_seed(seed_value)\n",
    "\n",
    "os.environ[\"CUDA_VISIBLE_DEVICES\"] = \"0\"  # 첫 번째 GPU 사용 (\"0\", \"1\" 등으로 설정 가능)\n",
    "\n",
    "# GPU 메모리 자동 증가 설정 (필요한 만큼 메모리 할당)\n",
    "gpus = tf.config.experimental.list_physical_devices('GPU')\n",
    "if gpus:\n",
    "    try:\n",
    "        for gpu in gpus:\n",
    "            tf.config.experimental.set_memory_growth(gpu, True)\n",
    "        print(\"GPU 메모리 자동 증가 설정 완료\")\n",
    "    except RuntimeError as e:\n",
    "        print(e)\n",
    "else:\n",
    "    print(\"GPU를 찾을 수 없습니다.\")"
   ]
  },
  {
   "cell_type": "code",
   "execution_count": null,
   "metadata": {
    "id": "qDZcYMSL9IIB"
   },
   "outputs": [],
   "source": [
    "# 데이터 경로 설정\n",
    "TRAIN_ADC_CONVERTED_PATH = os.path.join(BASE_DIR, 'data/train/converted/1ADC_ss')\n",
    "TRAIN_Z_ADC_CONVERTED_PATH = os.path.join(BASE_DIR, 'data/train/converted/2Z_ADC')\n",
    "TRAIN_LABEL_CONVERTED_PATH = os.path.join(BASE_DIR, 'data/train/converted/3LABEL')\n",
    "VAL_ADC_CONVERTED_PATH = os.path.join(BASE_DIR, 'data/val/converted/1ADC_ss')\n",
    "VAL_Z_ADC_CONVERTED_PATH = os.path.join(BASE_DIR, 'data/val/converted/2Z_ADC')\n",
    "VAL_LABEL_CONVERTED_PATH = os.path.join(BASE_DIR, 'data/val/converted/3LABEL')\n",
    "\n",
    "# TRAIN_ADC_CONVERTED_PATH = os.path.join(BASE_DIR, 'smalldata/train/converted/1ADC_ss')\n",
    "# TRAIN_Z_ADC_CONVERTED_PATH = os.path.join(BASE_DIR, 'smalldata/train/converted/2Z_ADC')\n",
    "# TRAIN_LABEL_CONVERTED_PATH = os.path.join(BASE_DIR, 'smalldata/train/converted/3LABEL')\n",
    "# VAL_ADC_CONVERTED_PATH = os.path.join(BASE_DIR, 'smalldata/val/converted/1ADC_ss')\n",
    "# VAL_Z_ADC_CONVERTED_PATH = os.path.join(BASE_DIR, 'smalldata/val/converted/2Z_ADC')\n",
    "# VAL_LABEL_CONVERTED_PATH = os.path.join(BASE_DIR, 'smalldata/val/converted/3LABEL')\n",
    "\n",
    "# output_dir = os.path.join(BASE_DIR, 'data/train/processed')\n",
    "# model_save_dir = os.path.join(project_base_dir, 'small_data/models')\n",
    "\n",
    "# 모델 저장 디렉토리가 존재하지 않으면 생성\n",
    "# if not os.path.exists(model_save_dir):\n",
    "#     os.makedirs(model_save_dir)"
   ]
  },
  {
   "cell_type": "code",
   "execution_count": null,
   "metadata": {
    "colab": {
     "background_save": true,
     "base_uri": "https://localhost:8080/"
    },
    "id": "FUXUHQN8BlcP",
    "outputId": "570c96e8-3bf7-43c5-db61-f840c07c6a0f"
   },
   "outputs": [],
   "source": [
    "# Grid Search\n",
    "import sys\n",
    "from preprocessing import *\n",
    "from Model import *\n",
    "from monai.data import DataLoader\n",
    "import tensorflow as tf\n",
    "from preprocessing import convert_monai_to_tf_dataset\n",
    "\n",
    "train_data_path = create_dataset(\n",
    "    TRAIN_ADC_CONVERTED_PATH,\n",
    "    TRAIN_Z_ADC_CONVERTED_PATH,\n",
    "    TRAIN_LABEL_CONVERTED_PATH\n",
    ")\n",
    "\n",
    "val_data_path = create_dataset(\n",
    "    VAL_ADC_CONVERTED_PATH,\n",
    "    VAL_Z_ADC_CONVERTED_PATH,\n",
    "    VAL_LABEL_CONVERTED_PATH,\n",
    ")\n",
    "\n",
    "unet_model = Unet3DModel(img_height=256, img_width=256, img_depth=64, img_channels=2)\n",
    "\n",
    "param_grid = {\n",
    "    'prob_contrast': np.linspace(0.1, 0.9, 9),\n",
    "    'prob_elastic': np.linspace(0.1, 0.9, 9)\n",
    "}\n",
    "\n",
    "best_params, best_score = unet_model.grid_search_prob_tuning(train_data_path, val_data_path, param_grid, epochs=100)\n",
    "print(f\"Best Parameters: {best_params}\")\n",
    "print(f\"Best Validation Score: {best_score}\")"
   ]
  },
  {
   "cell_type": "code",
   "execution_count": null,
   "metadata": {
    "id": "5h0H_G6P57ht"
   },
   "outputs": [],
   "source": [
    "# # 데이터셋 로드\n",
    "# import sys\n",
    "# from preprocessing import create_and_preprocess_dataset\n",
    "# from monai.data import DataLoader\n",
    "# import tensorflow as tf\n",
    "# from preprocessing import convert_monai_to_tf_dataset\n",
    "\n",
    "# train_monai_dataset = create_and_preprocess_dataset(\n",
    "#     TRAIN_ADC_CONVERTED_PATH,\n",
    "#     TRAIN_Z_ADC_CONVERTED_PATH,\n",
    "#     TRAIN_LABEL_CONVERTED_PATH,\n",
    "#     is_train=True\n",
    "# )\n",
    "\n",
    "# val_monai_dataset = create_and_preprocess_dataset(\n",
    "#     VAL_ADC_CONVERTED_PATH,\n",
    "#     VAL_Z_ADC_CONVERTED_PATH,\n",
    "#     VAL_LABEL_CONVERTED_PATH,\n",
    "#     is_train=False\n",
    "# )\n",
    "\n",
    "# # Convert MONAI datasets to TensorFlow datasets\n",
    "# train_tf_dataloader = convert_monai_to_tf_dataset(train_monai_dataset, batch_size=1)\n",
    "# val_tf_dataloader = convert_monai_to_tf_dataset(val_monai_dataset, batch_size=1)"
   ]
  },
  {
   "cell_type": "code",
   "execution_count": null,
   "metadata": {
    "id": "E-fHSPr-t5Rh"
   },
   "outputs": [],
   "source": [
    "# # GPU 메모리 설정\n",
    "# def set_gpu_memory_growth():\n",
    "#     gpus = tf.config.experimental.list_physical_devices('GPU')\n",
    "#     if gpus:\n",
    "#         try:\n",
    "#             for gpu in gpus:\n",
    "#                 tf.config.experimental.set_memory_growth(gpu, True)\n",
    "#             print(f\"Enabled memory growth for {len(gpus)} GPU(s)\")\n",
    "#         except RuntimeError as e:\n",
    "#             print(e)"
   ]
  },
  {
   "cell_type": "code",
   "execution_count": null,
   "metadata": {
    "id": "5N3cDrdoAYMG"
   },
   "outputs": [],
   "source": [
    "# import matplotlib.pyplot as plt\n",
    "\n",
    "# # 결과 시각화 함수\n",
    "# def plot_history(history):\n",
    "#     epochs_range = range(1, len(history.history['loss']) + 1)\n",
    "\n",
    "#     plt.figure(figsize=(14, 10))\n",
    "\n",
    "#     plt.subplot(2, 2, 1)\n",
    "#     plt.plot(epochs_range, history.history['loss'], 'ro-', label='Training Loss')\n",
    "#     plt.plot(epochs_range, history.history['val_loss'], 'bo-', label='Validation Loss')\n",
    "#     plt.title('Training and Validation Loss')\n",
    "#     plt.xlabel('Epoch')\n",
    "#     plt.ylabel('Loss')\n",
    "#     plt.legend()\n",
    "\n",
    "#     plt.subplot(2, 2, 2)\n",
    "#     plt.plot(epochs_range, history.history['accuracy'], 'ro-', label='Training Accuracy')\n",
    "#     plt.plot(epochs_range, history.history['val_accuracy'], 'bo-', label='Validation Accuracy')\n",
    "#     plt.title('Training and Validation Accuracy')\n",
    "#     plt.xlabel('Epoch')\n",
    "#     plt.ylabel('Accuracy')\n",
    "#     plt.legend()\n",
    "\n",
    "#     plt.subplot(2, 2, 3)\n",
    "#     plt.plot(epochs_range, history.history['mean_io_u'], 'ro-', label='Training Mean IoU')\n",
    "#     plt.plot(epochs_range, history.history['val_mean_io_u'], 'bo-', label='Validation Mean IoU')\n",
    "#     plt.title('Training and Validation Mean IoU')\n",
    "#     plt.xlabel('Epoch')\n",
    "#     plt.ylabel('Mean IoU')\n",
    "#     plt.legend()\n",
    "\n",
    "#     plt.subplot(2, 2, 4)\n",
    "#     plt.plot(epochs_range, history.history['dice_coefficient'], 'ro-', label='Training Dice Coefficient')\n",
    "#     plt.plot(epochs_range, history.history['val_dice_coefficient'], 'bo-', label='Validation Dice Coefficient')\n",
    "#     plt.title('Training and Validation Dice Coefficient')\n",
    "#     plt.xlabel('Epoch')\n",
    "#     plt.ylabel('Dice Coefficient')\n",
    "#     plt.legend()\n",
    "\n",
    "#     plt.tight_layout()\n",
    "#     plt.show()"
   ]
  },
  {
   "cell_type": "code",
   "execution_count": null,
   "metadata": {
    "id": "-s5sgLlB7GDc"
   },
   "outputs": [],
   "source": [
    "from Model import Unet3DModel\n",
    "\n",
    "# 모델 훈련 및 결과 시각화\n",
    "def train_and_evaluate_model(train_tf_dataloader, val_tf_dataloader, img_height=256, img_width=256, img_depth=64, img_channels=2, batch_size=1, epochs=100):\n",
    "    set_gpu_memory_growth()\n",
    "    model = Unet3DModel(img_height=img_height, img_width=img_width, img_depth=img_depth, img_channels=img_channels)\n",
    "\n",
    "    # 모델 훈련\n",
    "    history = model.train(train_tf_dataloader, val_tf_dataloader, batch_size=batch_size, epochs=epochs)\n",
    "\n",
    "    # 결과 시각화\n",
    "    plot_history(history)"
   ]
  },
  {
   "cell_type": "code",
   "execution_count": null,
   "metadata": {
    "id": "7EDqlAAUBEBx"
   },
   "outputs": [],
   "source": [
    "# train_and_evaluate_model(train_tf_dataloader, val_tf_dataloader)"
   ]
  },
  {
   "cell_type": "code",
   "execution_count": null,
   "metadata": {
    "id": "LBe9XrTS-Uns"
   },
   "outputs": [],
   "source": [
    "import matplotlib.pyplot as plt\n",
    "from tensorflow.keras.metrics import MeanIoU\n",
    "import numpy as np\n",
    "from tensorflow.keras.models import load_model\n",
    "from Model import DiceLoss, DiceCoefficient\n",
    "\n",
    "# 저장된 모델 로드\n",
    "model = load_model('/content/drive/MyDrive/Colab Notebooks/BONBID Project/models/best_dice_model.keras', custom_objects={'MeanIoU': MeanIoU, 'DiceCoefficient': DiceCoefficient, 'DiceLoss': DiceLoss})\n",
    "\n",
    "# 모델 평가\n",
    "def evaluate_model(model, val_tf_dataloader):\n",
    "    results = model.evaluate(val_tf_dataloader)\n",
    "    print(f\"Validation Loss: {results[0]}\")\n",
    "    print(f\"Validation Accuracy: {results[1]}\")\n",
    "    print(f\"Mean IoU: {results[2]}\")\n",
    "    print(f\"Dice Coefficient: {results[3]}\")\n",
    "\n",
    "evaluate_model(model, val_tf_dataloader)"
   ]
  },
  {
   "cell_type": "code",
   "execution_count": null,
   "metadata": {
    "id": "WrmWa54FH32z"
   },
   "outputs": [],
   "source": [
    "import matplotlib.pyplot as plt\n",
    "import numpy as np\n",
    "\n",
    "def visualize_predictions(model, val_tf_dataloader, num_samples=4):\n",
    "    fig, axes = plt.subplots(num_samples, 4, figsize=(20, 5 * num_samples))\n",
    "\n",
    "    for i, (data, label) in enumerate(val_tf_dataloader.take(num_samples)):\n",
    "        prediction = model.predict(data)\n",
    "        image = data.numpy().squeeze()\n",
    "        label = label.numpy().squeeze()\n",
    "        prediction = prediction.squeeze()\n",
    "\n",
    "        # 이진화 과정 추가\n",
    "        threshold = 0.5\n",
    "        prediction_binary = (prediction >= threshold).astype(np.float32)\n",
    "\n",
    "        slice_idx = image.shape[2] // 2  # 중앙 슬라이스 선택\n",
    "\n",
    "        # 첫 번째 채널의 입력 이미지 시각화\n",
    "        axes[i, 0].imshow(image[:, :, slice_idx, 0], cmap='gray')\n",
    "        axes[i, 0].set_title('Input Image - Channel 1')\n",
    "        axes[i, 0].axis('off')\n",
    "\n",
    "        # 두 번째 채널의 입력 이미지 시각화\n",
    "        axes[i, 1].imshow(image[:, :, slice_idx, 1], cmap='gray')\n",
    "        axes[i, 1].set_title('Input Image - Channel 2')\n",
    "        axes[i, 1].axis('off')\n",
    "\n",
    "        # 실제 마스크 시각화\n",
    "        axes[i, 2].imshow(label[:, :, slice_idx], cmap='gray')\n",
    "        axes[i, 2].set_title('True Mask')\n",
    "        axes[i, 2].axis('off')\n",
    "\n",
    "        # 예측된 마스크 시각화\n",
    "        axes[i, 3].imshow(prediction_binary[:, :, slice_idx], cmap='gray')\n",
    "        axes[i, 3].set_title('Predicted Mask')\n",
    "        axes[i, 3].axis('off')\n",
    "\n",
    "    plt.tight_layout()\n",
    "    plt.show()\n",
    "\n",
    "visualize_predictions(model, val_tf_dataloader, num_samples=4)"
   ]
  },
  {
   "cell_type": "code",
   "execution_count": null,
   "metadata": {
    "id": "pD8r8SOjjWLs"
   },
   "outputs": [],
   "source": []
  }
 ],
 "metadata": {
  "accelerator": "GPU",
  "colab": {
   "gpuType": "T4",
   "machine_shape": "hm",
   "provenance": []
  },
  "kernelspec": {
   "display_name": "Python (bonbid)AAAAAA",
   "language": "python",
   "name": "bonbid"
  },
  "language_info": {
   "codemirror_mode": {
    "name": "ipython",
    "version": 3
   },
   "file_extension": ".py",
   "mimetype": "text/x-python",
   "name": "python",
   "nbconvert_exporter": "python",
   "pygments_lexer": "ipython3",
   "version": "3.10.14"
  }
 },
 "nbformat": 4,
 "nbformat_minor": 4
}
